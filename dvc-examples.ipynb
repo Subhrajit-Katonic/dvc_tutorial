{
 "cells": [
  {
   "cell_type": "code",
   "execution_count": 20,
   "id": "eb96f6c7",
   "metadata": {},
   "outputs": [
    {
     "name": "stdout",
     "output_type": "stream",
     "text": [
      "sh: 0: getcwd() failed: No such file or directory\r\n",
      "fatal: Unable to read current working directory: No such file or directory\r\n"
     ]
    }
   ],
   "source": [
    "!git add ."
   ]
  },
  {
   "cell_type": "code",
   "execution_count": 21,
   "id": "52e74f96",
   "metadata": {},
   "outputs": [
    {
     "name": "stdout",
     "output_type": "stream",
     "text": [
      "sh: 0: getcwd() failed: No such file or directory\r\n",
      "fatal: Unable to read current working directory: No such file or directory\r\n"
     ]
    }
   ],
   "source": [
    "!git commit -m \"initialize dvc\""
   ]
  },
  {
   "cell_type": "code",
   "execution_count": 4,
   "id": "9be1dd22",
   "metadata": {},
   "outputs": [
    {
     "name": "stdout",
     "output_type": "stream",
     "text": [
      "Setting 's3-data-storage' as a default remote.\n",
      "\u001b[31mERROR\u001b[39m: configuration error - config file error: remote 's3-data-storage' already exists. Use `-f|--force` to overwrite it.\n",
      "\u001b[0m\u001b[0m\u001b[0m"
     ]
    }
   ],
   "source": [
    "!dvc remote add -d s3-data-storage s3://private-storage-2a78920a/dvc_example"
   ]
  },
  {
   "cell_type": "code",
   "execution_count": 18,
   "id": "521b6d09",
   "metadata": {},
   "outputs": [
    {
     "name": "stdout",
     "output_type": "stream",
     "text": [
      "\u001b[0m\u001b[0m\u001b[0m"
     ]
    }
   ],
   "source": [
    "!dvc remote modify s3-data-storage endpointurl http://minio-server.default.svc.cluster.local:9000\n",
    "!dvc remote modify s3-data-storage access_key_id ONM8OT633Z4PZXMWNW79\n",
    "!dvc remote modify s3-data-storage secret_access_key IVbn5+Ur+lnsEhmuIB0fG2pF5meTsSh5cuZdNHAV"
   ]
  },
  {
   "cell_type": "code",
   "execution_count": 6,
   "id": "947ddccf",
   "metadata": {},
   "outputs": [],
   "source": [
    "!git add ."
   ]
  },
  {
   "cell_type": "code",
   "execution_count": 7,
   "id": "83d9f423",
   "metadata": {},
   "outputs": [
    {
     "name": "stdout",
     "output_type": "stream",
     "text": [
      "[main fe97d95] setup of dvc remote storage\r\n",
      " Committer: root <root@ws-76d7d003-59d8-4ca5-b2ef-221c0a0011ae-0.ws-76d7d003-59d8-4ca5-b2ef-221c0a0011ae.subhrajit-mohanty-katonic-ai.svc.cluster.local>\r\n",
      "Your name and email address were configured automatically based\r\n",
      "on your username and hostname. Please check that they are accurate.\r\n",
      "You can suppress this message by setting them explicitly. Run the\r\n",
      "following command and follow the instructions in your editor to edit\r\n",
      "your configuration file:\r\n",
      "\r\n",
      "    git config --global --edit\r\n",
      "\r\n",
      "After doing this, you may fix the identity used for this commit with:\r\n",
      "\r\n",
      "    git commit --amend --reset-author\r\n",
      "\r\n",
      " 2 files changed, 115 insertions(+), 3 deletions(-)\r\n"
     ]
    }
   ],
   "source": [
    "!git commit -m \"setup of dvc remote storage\""
   ]
  },
  {
   "cell_type": "code",
   "execution_count": 8,
   "id": "3b529710",
   "metadata": {},
   "outputs": [],
   "source": [
    "!mkdir data\n",
    "!mkdir models\n",
    "!mkdir data/raw\n",
    "!mkdir data/processed\n",
    "!mkdir data/prepared"
   ]
  },
  {
   "cell_type": "code",
   "execution_count": 9,
   "id": "48275132",
   "metadata": {
    "scrolled": true
   },
   "outputs": [
    {
     "name": "stdout",
     "output_type": "stream",
     "text": [
      "--2023-06-02 12:15:01--  https://raw.githubusercontent.com/benouinirachid/ml_scripts/main/load_data.py\n",
      "Resolving raw.githubusercontent.com (raw.githubusercontent.com)... 185.199.108.133, 185.199.109.133, 185.199.111.133, ...\n",
      "Connecting to raw.githubusercontent.com (raw.githubusercontent.com)|185.199.108.133|:443... connected.\n",
      "HTTP request sent, awaiting response... 200 OK\n",
      "Length: 649 [text/plain]\n",
      "Saving to: ‘load_data.py’\n",
      "\n",
      "load_data.py        100%[===================>]     649  --.-KB/s    in 0s      \n",
      "\n",
      "2023-06-02 12:15:02 (30.3 MB/s) - ‘load_data.py’ saved [649/649]\n",
      "\n",
      "--2023-06-02 12:15:02--  https://raw.githubusercontent.com/benouinirachid/ml_scripts/main/prepare_data.py\n",
      "Resolving raw.githubusercontent.com (raw.githubusercontent.com)... 185.199.110.133, 185.199.108.133, 185.199.111.133, ...\n",
      "Connecting to raw.githubusercontent.com (raw.githubusercontent.com)|185.199.110.133|:443... connected.\n",
      "HTTP request sent, awaiting response... 200 OK\n",
      "Length: 1093 (1.1K) [text/plain]\n",
      "Saving to: ‘prepare_data.py’\n",
      "\n",
      "prepare_data.py     100%[===================>]   1.07K  --.-KB/s    in 0s      \n",
      "\n",
      "2023-06-02 12:15:03 (53.5 MB/s) - ‘prepare_data.py’ saved [1093/1093]\n",
      "\n",
      "--2023-06-02 12:15:03--  https://raw.githubusercontent.com/benouinirachid/ml_scripts/main/process_data.py\n",
      "Resolving raw.githubusercontent.com (raw.githubusercontent.com)... 185.199.109.133, 185.199.111.133, 185.199.110.133, ...\n",
      "Connecting to raw.githubusercontent.com (raw.githubusercontent.com)|185.199.109.133|:443... connected.\n",
      "HTTP request sent, awaiting response... 200 OK\n",
      "Length: 827 [text/plain]\n",
      "Saving to: ‘process_data.py’\n",
      "\n",
      "process_data.py     100%[===================>]     827  --.-KB/s    in 0s      \n",
      "\n",
      "2023-06-02 12:15:04 (49.9 MB/s) - ‘process_data.py’ saved [827/827]\n",
      "\n"
     ]
    }
   ],
   "source": [
    "!wget -O load_data.py https://raw.githubusercontent.com/benouinirachid/ml_scripts/main/load_data.py\n",
    "!wget -O prepare_data.py https://raw.githubusercontent.com/benouinirachid/ml_scripts/main/prepare_data.py\n",
    "!wget -O process_data.py https://raw.githubusercontent.com/benouinirachid/ml_scripts/main/process_data.py"
   ]
  },
  {
   "cell_type": "code",
   "execution_count": 10,
   "id": "0e100ec0",
   "metadata": {},
   "outputs": [
    {
     "name": "stdout",
     "output_type": "stream",
     "text": [
      "#INFO: Data is succefully loaded!\r\n"
     ]
    }
   ],
   "source": [
    "!python load_data.py -p data/raw -u http://archive.ics.uci.edu/ml/machine-learning-databases/wine-quality/winequality-red.csv"
   ]
  },
  {
   "cell_type": "code",
   "execution_count": 11,
   "id": "9e636cc4",
   "metadata": {},
   "outputs": [
    {
     "name": "stdout",
     "output_type": "stream",
     "text": [
      "\u001b[?25l                                                                          \u001b[32m⠋\u001b[0m Checking graph\n",
      "Adding...                                                                       \n",
      "!\u001b[A\n",
      "Building data objects from data                       |0.00 [00:00,      ?obj/s]\u001b[A\n",
      "                                                                                \u001b[A\n",
      "!\u001b[A\n",
      "  0% Checking cache in '/home/katonic/dvc_tutorial/.dvc/cache'| |0/? [00:00<?,  \u001b[A\n",
      "                                                                                \u001b[A\n",
      "!\u001b[A\n",
      "  0%|          |Transferring                          0/? [00:00<?,     ?file/s]\u001b[A\n",
      "  0%|          |Transferring                          0/1 [00:00<?,     ?file/s]\u001b[A\n",
      "                                                                                \u001b[A\n",
      "!\u001b[A\n",
      "Building data objects from data                       |0.00 [00:00,      ?obj/s]\u001b[A\n",
      "                                                                                \u001b[A\n",
      "!\u001b[A\n",
      "  0%|          |Checking out data                     0/? [00:00<?,    ?files/s]\u001b[A\n",
      "  0%|          |Checking out data                     0/2 [00:00<?,    ?files/s]\u001b[A\n",
      "100% Adding...|████████████████████████████████████████|1/1 [00:00, 39.49file/s]\u001b[A\n",
      "\n",
      "To track the changes with git, run:\n",
      "\n",
      "\tgit add data.dvc\n",
      "\n",
      "To enable auto staging, run:\n",
      "\n",
      "\tdvc config core.autostage true\n",
      "\u001b[0m"
     ]
    }
   ],
   "source": [
    "!dvc add data"
   ]
  },
  {
   "cell_type": "code",
   "execution_count": 12,
   "id": "28e65b3d",
   "metadata": {},
   "outputs": [],
   "source": [
    "!git add ."
   ]
  },
  {
   "cell_type": "code",
   "execution_count": 13,
   "id": "4779600d",
   "metadata": {},
   "outputs": [
    {
     "name": "stdout",
     "output_type": "stream",
     "text": [
      "On branch main\r\n",
      "Your branch is ahead of 'origin/main' by 2 commits.\r\n",
      "  (use \"git push\" to publish your local commits)\r\n",
      "\r\n",
      "Changes to be committed:\r\n",
      "  (use \"git reset HEAD <file>...\" to unstage)\r\n",
      "\r\n",
      "\t\u001b[32mmodified:   data.dvc\u001b[m\r\n",
      "\t\u001b[32mmodified:   dvc-examples.ipynb\u001b[m\r\n",
      "\r\n"
     ]
    }
   ],
   "source": [
    "!git status"
   ]
  },
  {
   "cell_type": "code",
   "execution_count": 14,
   "id": "9b239c7f",
   "metadata": {},
   "outputs": [
    {
     "name": "stdout",
     "output_type": "stream",
     "text": [
      "Data and pipelines are up to date.                                              \n",
      "\u001b[0m"
     ]
    }
   ],
   "source": [
    "!dvc status"
   ]
  },
  {
   "cell_type": "code",
   "execution_count": 15,
   "id": "7d7c3854",
   "metadata": {},
   "outputs": [
    {
     "name": "stdout",
     "output_type": "stream",
     "text": [
      "[main f7a13b3] Control the data directory with DVC\r\n",
      " Committer: root <root@ws-76d7d003-59d8-4ca5-b2ef-221c0a0011ae-0.ws-76d7d003-59d8-4ca5-b2ef-221c0a0011ae.subhrajit-mohanty-katonic-ai.svc.cluster.local>\r\n",
      "Your name and email address were configured automatically based\r\n",
      "on your username and hostname. Please check that they are accurate.\r\n",
      "You can suppress this message by setting them explicitly. Run the\r\n",
      "following command and follow the instructions in your editor to edit\r\n",
      "your configuration file:\r\n",
      "\r\n",
      "    git config --global --edit\r\n",
      "\r\n",
      "After doing this, you may fix the identity used for this commit with:\r\n",
      "\r\n",
      "    git commit --amend --reset-author\r\n",
      "\r\n",
      " 2 files changed, 69 insertions(+), 9 deletions(-)\r\n"
     ]
    }
   ],
   "source": [
    "!git commit -m \"Control the data directory with DVC\""
   ]
  },
  {
   "cell_type": "code",
   "execution_count": 16,
   "id": "9fb51430",
   "metadata": {},
   "outputs": [
    {
     "name": "stdout",
     "output_type": "stream",
     "text": [
      "Username for 'https://github.com': ^C\n"
     ]
    }
   ],
   "source": [
    "!git push"
   ]
  },
  {
   "cell_type": "code",
   "execution_count": 19,
   "id": "a8253ed2",
   "metadata": {},
   "outputs": [
    {
     "name": "stdout",
     "output_type": "stream",
     "text": [
      "\u001b[31mERROR\u001b[39m: unexpected error - Forbidden: An error occurred (403) when calling the HeadObject operation: Forbidden\n",
      "\n",
      "\u001b[33mHaving any troubles?\u001b[0m Hit us up at \u001b[34mhttps://dvc.org/support\u001b[0m, we are always happy to help!\n",
      "\u001b[0m"
     ]
    }
   ],
   "source": [
    "!dvc push"
   ]
  },
  {
   "cell_type": "code",
   "execution_count": null,
   "id": "de82fbf4",
   "metadata": {},
   "outputs": [],
   "source": []
  }
 ],
 "metadata": {
  "kernelspec": {
   "display_name": "Python 3 (ipykernel)",
   "language": "python",
   "name": "python3"
  },
  "language_info": {
   "codemirror_mode": {
    "name": "ipython",
    "version": 3
   },
   "file_extension": ".py",
   "mimetype": "text/x-python",
   "name": "python",
   "nbconvert_exporter": "python",
   "pygments_lexer": "ipython3",
   "version": "3.8.13"
  }
 },
 "nbformat": 4,
 "nbformat_minor": 5
}
